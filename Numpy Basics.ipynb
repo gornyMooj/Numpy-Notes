{
 "cells": [
  {
   "cell_type": "markdown",
   "id": "1f8e6b0e",
   "metadata": {},
   "source": [
    "Python is a **high-level language** because we don't have to manually allocate memory or specifyhow the CPU performs certain operations. A low-level language like C gives us this control andlets us improve specific code performance, but it involves a tradeoff in programmer productivity.The NumPy library lets us write code in Python but take advantage of the performance that Coffers. \n",
    "The NumPy library takes advantage of a processor feature called **Single Instruction Multiple Data (SIMD)** to process data faster. SIMD allows a processor to perform the same operation on multiple data points in a single processor cycle:"
   ]
  },
  {
   "cell_type": "code",
   "execution_count": 5,
   "id": "ebea9ab8",
   "metadata": {},
   "outputs": [
    {
     "name": "stdout",
     "output_type": "stream",
     "text": [
      "[1 2 3 4]\n",
      "Size of nparray (4,)\n"
     ]
    }
   ],
   "source": [
    "import numpy as np\n",
    "\n",
    "# covert a list to nd.array\n",
    "data_list = [1,2,3,4]\n",
    "data_ndarray = np.array(data_list)\n",
    "print(data_ndarray)\n"
   ]
  },
  {
   "cell_type": "code",
   "execution_count": 2,
   "id": "3f4e3b03",
   "metadata": {},
   "outputs": [
    {
     "data": {
      "text/plain": [
       "[1, 2, 3, 4]"
      ]
     },
     "execution_count": 2,
     "metadata": {},
     "output_type": "execute_result"
    }
   ],
   "source": [
    "# covert a list to nd.array\n",
    "nparray_to_list = list(data_ndarray)\n",
    "nparray_to_list"
   ]
  },
  {
   "cell_type": "code",
   "execution_count": 36,
   "id": "e57a1ca0",
   "metadata": {},
   "outputs": [
    {
     "name": "stdout",
     "output_type": "stream",
     "text": [
      "Size of nparray (2, 3)\n"
     ]
    },
    {
     "data": {
      "text/plain": [
       "array([[ 5, 10, 15],\n",
       "       [20, 25, 30]])"
      ]
     },
     "execution_count": 36,
     "metadata": {},
     "output_type": "execute_result"
    }
   ],
   "source": [
    "# check size of nparray\n",
    "data_ndarray = np.array([[5, 10, 15], \n",
    "                         [20, 25, 30]])\n",
    "print('Size of nparray', data_ndarray.shape)\n",
    "data_ndarray"
   ]
  },
  {
   "cell_type": "code",
   "execution_count": 8,
   "id": "3a1ebca8",
   "metadata": {},
   "outputs": [
    {
     "data": {
      "text/plain": [
       "25"
      ]
     },
     "execution_count": 8,
     "metadata": {},
     "output_type": "execute_result"
    }
   ],
   "source": [
    "# ndarray[row_index,column_index]\n",
    "# access data from a cell \n",
    "data_ndarray[1,1]\n"
   ]
  },
  {
   "cell_type": "code",
   "execution_count": 11,
   "id": "54bb68f6",
   "metadata": {},
   "outputs": [
    {
     "data": {
      "text/plain": [
       "array([1, 2, 3])"
      ]
     },
     "execution_count": 11,
     "metadata": {},
     "output_type": "execute_result"
    }
   ],
   "source": [
    "# Let's continue by learning how to select one or more columns of data:\n",
    "data_ndarray = np.array([[5, 10, 1], \n",
    "                         [20, 25, 2],\n",
    "                         [33,34,3]])\n",
    "\n",
    "sel_np = data_ndarray[:,2]\n",
    "sel_np"
   ]
  },
  {
   "cell_type": "code",
   "execution_count": 16,
   "id": "de6ab9d0",
   "metadata": {},
   "outputs": [
    {
     "data": {
      "text/plain": [
       "array([[1, 2],\n",
       "       [2, 3],\n",
       "       [3, 4]])"
      ]
     },
     "execution_count": 16,
     "metadata": {},
     "output_type": "execute_result"
    }
   ],
   "source": [
    "# select two columns\n",
    "data_ndarray = np.array([[5, 10, 1,2,100], \n",
    "                         [20, 25, 2,3,101],\n",
    "                         [33,34,3,4,102]])\n",
    "\n",
    "two_columns = data_ndarray[:, 2:4]\n",
    "two_columns"
   ]
  },
  {
   "cell_type": "code",
   "execution_count": 15,
   "id": "53978cb5",
   "metadata": {},
   "outputs": [
    {
     "data": {
      "text/plain": [
       "array([[0, 1, 2],\n",
       "       [0, 2, 3],\n",
       "       [0, 3, 4]])"
      ]
     },
     "execution_count": 15,
     "metadata": {},
     "output_type": "execute_result"
    }
   ],
   "source": [
    "#Selecting multiple specific column\n",
    "data_ndarray = np.array([[0, 10, 1,2,100], \n",
    "                         [0, 25, 2,3,101],\n",
    "                         [0,34,3,4,102]])\n",
    "\n",
    "cols = [0,2,3]\n",
    "three_columns = data_ndarray[:, cols]\n",
    "\n",
    "three_columns\n"
   ]
  },
  {
   "cell_type": "code",
   "execution_count": 19,
   "id": "4ac9a710",
   "metadata": {},
   "outputs": [
    {
     "name": "stdout",
     "output_type": "stream",
     "text": [
      "\n",
      "XXXXX\n",
      "XX..X\n",
      "XXXXX\n",
      "\n"
     ]
    },
    {
     "data": {
      "text/plain": [
       "array([2, 3])"
      ]
     },
     "execution_count": 19,
     "metadata": {},
     "output_type": "execute_result"
    }
   ],
   "source": [
    "#If we want to select a partial 1D slice of a row or column, we can combine \n",
    "# a single value for one dimension with a slice for the other dimension\n",
    "print('''\n",
    "XXXXX\n",
    "XX..X\n",
    "XXXXX\n",
    "''')\n",
    "\n",
    "data_ndarray = np.array([[0, 10, 1,2,100], \n",
    "                         [0, 25, 2,3,101],\n",
    "                         [0,34,3,4,102]])\n",
    "\n",
    "sel_data = data_ndarray[1, 2:4]\n",
    "sel_data"
   ]
  },
  {
   "cell_type": "code",
   "execution_count": 22,
   "id": "159da395",
   "metadata": {},
   "outputs": [
    {
     "name": "stdout",
     "output_type": "stream",
     "text": [
      "\n",
      "XXXXX\n",
      "...XX\n",
      "...XX\n",
      "XXXXX\n",
      "\n"
     ]
    },
    {
     "data": {
      "text/plain": [
       "array([[ 0, 25,  2],\n",
       "       [ 0, 34,  3]])"
      ]
     },
     "execution_count": 22,
     "metadata": {},
     "output_type": "execute_result"
    }
   ],
   "source": [
    "# Lastly, if we want to select a 2D slice, we can use slices for both dimensions:\n",
    "\n",
    "print('''\n",
    "XXXXX\n",
    "...XX\n",
    "...XX\n",
    "XXXXX\n",
    "''')\n",
    "\n",
    "data_ndarray = np.array([[0,10,1,2,100,200], \n",
    "                         [0,25,2,3,101,201],\n",
    "                         [0,34,3,4,102,203],\n",
    "                         [0,37,4,5,103,204]])\n",
    "\n",
    "sel_data = data_ndarray[1:3, :3]\n",
    "sel_data"
   ]
  },
  {
   "cell_type": "markdown",
   "id": "e451db5f",
   "metadata": {},
   "source": [
    "NumPy ndarrays allow us to select data much more easily. Beyond this, the selection is much faster when working with **vectorized operations** because the operations apply to multiple data points at once."
   ]
  },
  {
   "cell_type": "code",
   "execution_count": 23,
   "id": "1fe31688",
   "metadata": {},
   "outputs": [],
   "source": [
    "# # convert the list of lists to an ndarray\n",
    "# my_numbers = np.array(my_numbers)\n",
    "\n",
    "# # select each of the columns - the result\n",
    "# # of each will be a 1D ndarray\n",
    "# col1 = my_numbers[:,0]\n",
    "# col2 = my_numbers[:,1]\n",
    "\n",
    "# # add the two columns\n",
    "# sums = col1 + col2\n",
    "\n",
    "# We could simplify this further if we wanted to:\n",
    "# sums = my_numbers[:,0] + my_numbers[:,1]"
   ]
  },
  {
   "cell_type": "markdown",
   "id": "b51695b6",
   "metadata": {},
   "source": [
    "The result of adding two 1D ndarrays is a 1D ndarray of the same shape (or dimensions) as the original. In this context, we can also call ndarrays **vectors**, a term from linear algebra. We call adding two vectors together **vector addition.**"
   ]
  },
  {
   "cell_type": "code",
   "execution_count": 30,
   "id": "8e9b6722",
   "metadata": {},
   "outputs": [
    {
     "data": {
      "text/plain": [
       "array([47, 56, 88, 23])"
      ]
     },
     "execution_count": 30,
     "metadata": {},
     "output_type": "execute_result"
    }
   ],
   "source": [
    "a = np.array([ [ 22, 25,  2],\n",
    "               [ 22, 34,  3],\n",
    "               [ 22, 66,  8],\n",
    "               [ 22, 1,  6]])\n",
    "\n",
    "b = a[:,0] + a[:,1]\n",
    "b"
   ]
  },
  {
   "cell_type": "markdown",
   "id": "b2499dd4",
   "metadata": {},
   "source": [
    "- vector_a + vector_b — addition\n",
    "- vector_a - vector_b — subtraction\n",
    "- vector_a * vector_b — multiplication (this is unrelated to the vector multiplication used in linear algebra).\n",
    "- vector_a / vector_b - division"
   ]
  },
  {
   "cell_type": "code",
   "execution_count": 31,
   "id": "a0df1165",
   "metadata": {},
   "outputs": [
    {
     "name": "stdout",
     "output_type": "stream",
     "text": [
      "minimum 23\n",
      "maximum 88\n",
      "mean 53.5\n",
      "sum 214\n"
     ]
    }
   ],
   "source": [
    "minimum = b.min()\n",
    "maximum = b.max()\n",
    "mean = b.mean()\n",
    "summ = b.sum()\n",
    "print('minimum',minimum)\n",
    "print('maximum',maximum)\n",
    "print('mean',mean)\n",
    "print('sum',summ)"
   ]
  },
  {
   "cell_type": "markdown",
   "id": "e8245cd8",
   "metadata": {},
   "source": [
    "### [NumPy ndarray documentation](https://app.dataquest.io/c/54/m/289/introduction-to-numpy/10/calculating-statistics-for-1-d-ndarrays) - check for more information \n",
    "\n",
    "- len()  -- is a **function** \n",
    "- list.append()   -- **method** - methods are special functions that belong to a specific type of object.\n",
    "\n",
    "In NumPy, sometimes operations implement as both methods and functions, which can be confusing.\n",
    "To remember the right terminology, anything that starts with np (e.g., np.mean()) is a function, and anything expressed with an object 'or variable' name first e.g., var_name.mean() is a method. \n"
   ]
  },
  {
   "cell_type": "code",
   "execution_count": 47,
   "id": "23170919",
   "metadata": {},
   "outputs": [
    {
     "name": "stdout",
     "output_type": "stream",
     "text": [
      "[13, 88, 18]\n",
      "[36, 55, 56]\n",
      "[74, 12, 33]\n",
      "[62, 57, 13]\n",
      "[51, 11, 17]\n",
      "\n",
      "[[13 88 18]\n",
      " [36 55 56]\n",
      " [74 12 33]\n",
      " [62 57 13]\n",
      " [51 11 17]]\n",
      "\n",
      "Some statistics with np:\n",
      "Max of the whole table: 88\n",
      "Max of each row: [88 56 74 62 51]\n",
      "Max of each column: [74 88 56]\n",
      "\n"
     ]
    }
   ],
   "source": [
    "import random \n",
    "\n",
    "l = []\n",
    "\n",
    "rows, columns = 5, 3\n",
    "\n",
    "for i in range(rows):\n",
    "    s = []\n",
    "    \n",
    "    for j in range(columns):\n",
    "        e = random.randint(0,90)\n",
    "        s.append(e)\n",
    "    l.append(s)\n",
    "    print(s)\n",
    "\n",
    "print()\n",
    "\n",
    "nparr = np.array(l)\n",
    "\n",
    "print(nparr)\n",
    "print('''\n",
    "Some statistics with np:\n",
    "Max of the whole table: {}\n",
    "Max of each row: {}\n",
    "Max of each column: {}\n",
    "'''.format(\n",
    "nparr.max(),\n",
    "nparr.max(axis=1),\n",
    "nparr.max(axis=0)\n",
    "    \n",
    "))\n"
   ]
  },
  {
   "cell_type": "markdown",
   "id": "ccc64e5f",
   "metadata": {},
   "source": [
    "Creating a random 2D Np Array in one **line code :)**"
   ]
  },
  {
   "cell_type": "code",
   "execution_count": 48,
   "id": "918e5792",
   "metadata": {},
   "outputs": [
    {
     "data": {
      "text/plain": [
       "array([[1, 4, 4],\n",
       "       [9, 1, 4],\n",
       "       [8, 1, 6],\n",
       "       [0, 2, 0],\n",
       "       [0, 3, 4]])"
      ]
     },
     "execution_count": 48,
     "metadata": {},
     "output_type": "execute_result"
    }
   ],
   "source": [
    "import random \n",
    "\n",
    "rows, columns = 5, 3\n",
    "li = np.array([[random.randint(0,9) for j in range(columns)] for i in range(rows)])\n",
    "\n",
    "nparrli"
   ]
  },
  {
   "cell_type": "code",
   "execution_count": null,
   "id": "fe4af900",
   "metadata": {},
   "outputs": [],
   "source": []
  }
 ],
 "metadata": {
  "kernelspec": {
   "display_name": "Python 3 (ipykernel)",
   "language": "python",
   "name": "python3"
  },
  "language_info": {
   "codemirror_mode": {
    "name": "ipython",
    "version": 3
   },
   "file_extension": ".py",
   "mimetype": "text/x-python",
   "name": "python",
   "nbconvert_exporter": "python",
   "pygments_lexer": "ipython3",
   "version": "3.7.11"
  }
 },
 "nbformat": 4,
 "nbformat_minor": 5
}
